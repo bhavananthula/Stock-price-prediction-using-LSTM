{
 "cells": [
  {
   "cell_type": "markdown",
   "id": "44bc7c2e",
   "metadata": {},
   "source": [
    " # STOCK PRICE PREDICTION "
   ]
  },
  {
   "cell_type": "code",
   "execution_count": 1,
   "id": "492a7bee",
   "metadata": {},
   "outputs": [
    {
     "name": "stderr",
     "output_type": "stream",
     "text": [
      "C:\\Users\\USER\\anaconda3\\lib\\site-packages\\scipy\\__init__.py:146: UserWarning: A NumPy version >=1.16.5 and <1.23.0 is required for this version of SciPy (detected version 1.24.3\n",
      "  warnings.warn(f\"A NumPy version >={np_minversion} and <{np_maxversion}\"\n"
     ]
    }
   ],
   "source": [
    "#importing libraries to be used\n",
    "import numpy as np \n",
    "import pandas as pd \n",
    "import matplotlib.pyplot as plt \n",
    "import seaborn as sns\n",
    "%matplotlib inline\n",
    "import warnings\n",
    "warnings.filterwarnings('ignore') \n",
    "from sklearn.preprocessing import MinMaxScaler \n",
    "from keras.models import Sequential\n",
    "from keras.layers import Dense, Dropout, LSTM, Bidirectional"
   ]
  },
  {
   "cell_type": "markdown",
   "id": "247ce8f2",
   "metadata": {},
   "source": [
    "## 1) Read csv file (WALMART stock price year 1972- 2022)"
   ]
  },
  {
   "cell_type": "code",
   "execution_count": 2,
   "id": "c38d06f4",
   "metadata": {},
   "outputs": [],
   "source": [
    "# data_importing\n",
    "df = pd.read_csv(\"Walmart.csv\")\n"
   ]
  },
  {
   "cell_type": "markdown",
   "id": "4cde48fc",
   "metadata": {},
   "source": [
    "### Reading data using parse date"
   ]
  },
  {
   "cell_type": "markdown",
   "id": "d6289a00",
   "metadata": {},
   "source": [
    "As it is timeseries data so we have to read the data by parsing date means making data column as index."
   ]
  },
  {
   "cell_type": "code",
   "execution_count": 3,
   "id": "f8c881b3",
   "metadata": {},
   "outputs": [
    {
     "data": {
      "text/html": [
       "<div>\n",
       "<style scoped>\n",
       "    .dataframe tbody tr th:only-of-type {\n",
       "        vertical-align: middle;\n",
       "    }\n",
       "\n",
       "    .dataframe tbody tr th {\n",
       "        vertical-align: top;\n",
       "    }\n",
       "\n",
       "    .dataframe thead th {\n",
       "        text-align: right;\n",
       "    }\n",
       "</style>\n",
       "<table border=\"1\" class=\"dataframe\">\n",
       "  <thead>\n",
       "    <tr style=\"text-align: right;\">\n",
       "      <th></th>\n",
       "      <th>Open</th>\n",
       "      <th>High</th>\n",
       "      <th>Low</th>\n",
       "      <th>Close</th>\n",
       "      <th>Adj Close</th>\n",
       "      <th>Volume</th>\n",
       "    </tr>\n",
       "    <tr>\n",
       "      <th>Date</th>\n",
       "      <th></th>\n",
       "      <th></th>\n",
       "      <th></th>\n",
       "      <th></th>\n",
       "      <th></th>\n",
       "      <th></th>\n",
       "    </tr>\n",
       "  </thead>\n",
       "  <tbody>\n",
       "    <tr>\n",
       "      <th>1972-08-25</th>\n",
       "      <td>0.063477</td>\n",
       "      <td>0.064697</td>\n",
       "      <td>0.063477</td>\n",
       "      <td>0.064453</td>\n",
       "      <td>0.036447</td>\n",
       "      <td>2508800</td>\n",
       "    </tr>\n",
       "    <tr>\n",
       "      <th>1972-08-28</th>\n",
       "      <td>0.064453</td>\n",
       "      <td>0.064941</td>\n",
       "      <td>0.064209</td>\n",
       "      <td>0.064209</td>\n",
       "      <td>0.036309</td>\n",
       "      <td>972800</td>\n",
       "    </tr>\n",
       "    <tr>\n",
       "      <th>1972-08-29</th>\n",
       "      <td>0.063965</td>\n",
       "      <td>0.063965</td>\n",
       "      <td>0.063477</td>\n",
       "      <td>0.063477</td>\n",
       "      <td>0.035895</td>\n",
       "      <td>1945600</td>\n",
       "    </tr>\n",
       "    <tr>\n",
       "      <th>1972-08-30</th>\n",
       "      <td>0.063477</td>\n",
       "      <td>0.063477</td>\n",
       "      <td>0.062988</td>\n",
       "      <td>0.063477</td>\n",
       "      <td>0.035895</td>\n",
       "      <td>409600</td>\n",
       "    </tr>\n",
       "    <tr>\n",
       "      <th>1972-08-31</th>\n",
       "      <td>0.062988</td>\n",
       "      <td>0.062988</td>\n",
       "      <td>0.062500</td>\n",
       "      <td>0.062500</td>\n",
       "      <td>0.035343</td>\n",
       "      <td>870400</td>\n",
       "    </tr>\n",
       "  </tbody>\n",
       "</table>\n",
       "</div>"
      ],
      "text/plain": [
       "                Open      High       Low     Close  Adj Close   Volume\n",
       "Date                                                                  \n",
       "1972-08-25  0.063477  0.064697  0.063477  0.064453   0.036447  2508800\n",
       "1972-08-28  0.064453  0.064941  0.064209  0.064209   0.036309   972800\n",
       "1972-08-29  0.063965  0.063965  0.063477  0.063477   0.035895  1945600\n",
       "1972-08-30  0.063477  0.063477  0.062988  0.063477   0.035895   409600\n",
       "1972-08-31  0.062988  0.062988  0.062500  0.062500   0.035343   870400"
      ]
     },
     "execution_count": 3,
     "metadata": {},
     "output_type": "execute_result"
    }
   ],
   "source": [
    "df1 = pd.read_csv(\"Walmart.csv\",na_values=['null'],index_col='Date',parse_dates=True,infer_datetime_format=True)\n",
    "df1.head(5)"
   ]
  },
  {
   "cell_type": "code",
   "execution_count": 4,
   "id": "a1780e66",
   "metadata": {},
   "outputs": [
    {
     "data": {
      "text/html": [
       "<div>\n",
       "<style scoped>\n",
       "    .dataframe tbody tr th:only-of-type {\n",
       "        vertical-align: middle;\n",
       "    }\n",
       "\n",
       "    .dataframe tbody tr th {\n",
       "        vertical-align: top;\n",
       "    }\n",
       "\n",
       "    .dataframe thead th {\n",
       "        text-align: right;\n",
       "    }\n",
       "</style>\n",
       "<table border=\"1\" class=\"dataframe\">\n",
       "  <thead>\n",
       "    <tr style=\"text-align: right;\">\n",
       "      <th></th>\n",
       "      <th>Date</th>\n",
       "      <th>Open</th>\n",
       "      <th>High</th>\n",
       "      <th>Low</th>\n",
       "      <th>Close</th>\n",
       "      <th>Adj Close</th>\n",
       "      <th>Volume</th>\n",
       "    </tr>\n",
       "  </thead>\n",
       "  <tbody>\n",
       "    <tr>\n",
       "      <th>0</th>\n",
       "      <td>8/25/1972</td>\n",
       "      <td>0.063477</td>\n",
       "      <td>0.064697</td>\n",
       "      <td>0.063477</td>\n",
       "      <td>0.064453</td>\n",
       "      <td>0.036447</td>\n",
       "      <td>2508800</td>\n",
       "    </tr>\n",
       "    <tr>\n",
       "      <th>1</th>\n",
       "      <td>8/28/1972</td>\n",
       "      <td>0.064453</td>\n",
       "      <td>0.064941</td>\n",
       "      <td>0.064209</td>\n",
       "      <td>0.064209</td>\n",
       "      <td>0.036309</td>\n",
       "      <td>972800</td>\n",
       "    </tr>\n",
       "    <tr>\n",
       "      <th>2</th>\n",
       "      <td>8/29/1972</td>\n",
       "      <td>0.063965</td>\n",
       "      <td>0.063965</td>\n",
       "      <td>0.063477</td>\n",
       "      <td>0.063477</td>\n",
       "      <td>0.035895</td>\n",
       "      <td>1945600</td>\n",
       "    </tr>\n",
       "    <tr>\n",
       "      <th>3</th>\n",
       "      <td>8/30/1972</td>\n",
       "      <td>0.063477</td>\n",
       "      <td>0.063477</td>\n",
       "      <td>0.062988</td>\n",
       "      <td>0.063477</td>\n",
       "      <td>0.035895</td>\n",
       "      <td>409600</td>\n",
       "    </tr>\n",
       "    <tr>\n",
       "      <th>4</th>\n",
       "      <td>8/31/1972</td>\n",
       "      <td>0.062988</td>\n",
       "      <td>0.062988</td>\n",
       "      <td>0.062500</td>\n",
       "      <td>0.062500</td>\n",
       "      <td>0.035343</td>\n",
       "      <td>870400</td>\n",
       "    </tr>\n",
       "    <tr>\n",
       "      <th>5</th>\n",
       "      <td>9/1/1972</td>\n",
       "      <td>0.062744</td>\n",
       "      <td>0.062988</td>\n",
       "      <td>0.062744</td>\n",
       "      <td>0.062988</td>\n",
       "      <td>0.035619</td>\n",
       "      <td>256000</td>\n",
       "    </tr>\n",
       "    <tr>\n",
       "      <th>6</th>\n",
       "      <td>9/5/1972</td>\n",
       "      <td>0.062988</td>\n",
       "      <td>0.062988</td>\n",
       "      <td>0.062500</td>\n",
       "      <td>0.062500</td>\n",
       "      <td>0.035343</td>\n",
       "      <td>563200</td>\n",
       "    </tr>\n",
       "    <tr>\n",
       "      <th>7</th>\n",
       "      <td>9/6/1972</td>\n",
       "      <td>0.062988</td>\n",
       "      <td>0.062988</td>\n",
       "      <td>0.062988</td>\n",
       "      <td>0.062988</td>\n",
       "      <td>0.035619</td>\n",
       "      <td>256000</td>\n",
       "    </tr>\n",
       "    <tr>\n",
       "      <th>8</th>\n",
       "      <td>9/7/1972</td>\n",
       "      <td>0.062988</td>\n",
       "      <td>0.062988</td>\n",
       "      <td>0.062744</td>\n",
       "      <td>0.062744</td>\n",
       "      <td>0.035481</td>\n",
       "      <td>1177600</td>\n",
       "    </tr>\n",
       "    <tr>\n",
       "      <th>9</th>\n",
       "      <td>9/8/1972</td>\n",
       "      <td>0.062500</td>\n",
       "      <td>0.062500</td>\n",
       "      <td>0.062256</td>\n",
       "      <td>0.062256</td>\n",
       "      <td>0.035205</td>\n",
       "      <td>665600</td>\n",
       "    </tr>\n",
       "  </tbody>\n",
       "</table>\n",
       "</div>"
      ],
      "text/plain": [
       "        Date      Open      High       Low     Close  Adj Close   Volume\n",
       "0  8/25/1972  0.063477  0.064697  0.063477  0.064453   0.036447  2508800\n",
       "1  8/28/1972  0.064453  0.064941  0.064209  0.064209   0.036309   972800\n",
       "2  8/29/1972  0.063965  0.063965  0.063477  0.063477   0.035895  1945600\n",
       "3  8/30/1972  0.063477  0.063477  0.062988  0.063477   0.035895   409600\n",
       "4  8/31/1972  0.062988  0.062988  0.062500  0.062500   0.035343   870400\n",
       "5   9/1/1972  0.062744  0.062988  0.062744  0.062988   0.035619   256000\n",
       "6   9/5/1972  0.062988  0.062988  0.062500  0.062500   0.035343   563200\n",
       "7   9/6/1972  0.062988  0.062988  0.062988  0.062988   0.035619   256000\n",
       "8   9/7/1972  0.062988  0.062988  0.062744  0.062744   0.035481  1177600\n",
       "9   9/8/1972  0.062500  0.062500  0.062256  0.062256   0.035205   665600"
      ]
     },
     "execution_count": 4,
     "metadata": {},
     "output_type": "execute_result"
    }
   ],
   "source": [
    "# fetching first 10 rows of dataset\n",
    "df.head(10)"
   ]
  },
  {
   "cell_type": "markdown",
   "id": "a469b046",
   "metadata": {},
   "source": [
    "## 2) Data Exploration & Cleaning"
   ]
  },
  {
   "cell_type": "code",
   "execution_count": 5,
   "id": "feb79235",
   "metadata": {},
   "outputs": [
    {
     "data": {
      "text/html": [
       "<div>\n",
       "<style scoped>\n",
       "    .dataframe tbody tr th:only-of-type {\n",
       "        vertical-align: middle;\n",
       "    }\n",
       "\n",
       "    .dataframe tbody tr th {\n",
       "        vertical-align: top;\n",
       "    }\n",
       "\n",
       "    .dataframe thead th {\n",
       "        text-align: right;\n",
       "    }\n",
       "</style>\n",
       "<table border=\"1\" class=\"dataframe\">\n",
       "  <thead>\n",
       "    <tr style=\"text-align: right;\">\n",
       "      <th></th>\n",
       "      <th>Date</th>\n",
       "      <th>Open</th>\n",
       "      <th>High</th>\n",
       "      <th>Low</th>\n",
       "      <th>Close</th>\n",
       "      <th>Adj Close</th>\n",
       "      <th>Volume</th>\n",
       "    </tr>\n",
       "  </thead>\n",
       "  <tbody>\n",
       "    <tr>\n",
       "      <th>12486</th>\n",
       "      <td>3/2/2022</td>\n",
       "      <td>135.660004</td>\n",
       "      <td>136.830002</td>\n",
       "      <td>135.179993</td>\n",
       "      <td>136.160004</td>\n",
       "      <td>136.160004</td>\n",
       "      <td>7954600</td>\n",
       "    </tr>\n",
       "    <tr>\n",
       "      <th>12487</th>\n",
       "      <td>3/3/2022</td>\n",
       "      <td>137.289993</td>\n",
       "      <td>140.470001</td>\n",
       "      <td>136.550003</td>\n",
       "      <td>139.289993</td>\n",
       "      <td>139.289993</td>\n",
       "      <td>9961700</td>\n",
       "    </tr>\n",
       "    <tr>\n",
       "      <th>12488</th>\n",
       "      <td>3/4/2022</td>\n",
       "      <td>137.809998</td>\n",
       "      <td>142.940002</td>\n",
       "      <td>137.589996</td>\n",
       "      <td>142.820007</td>\n",
       "      <td>142.820007</td>\n",
       "      <td>11858800</td>\n",
       "    </tr>\n",
       "    <tr>\n",
       "      <th>12489</th>\n",
       "      <td>3/7/2022</td>\n",
       "      <td>141.300003</td>\n",
       "      <td>143.630005</td>\n",
       "      <td>140.449997</td>\n",
       "      <td>141.669998</td>\n",
       "      <td>141.669998</td>\n",
       "      <td>15273000</td>\n",
       "    </tr>\n",
       "    <tr>\n",
       "      <th>12490</th>\n",
       "      <td>3/7/2022</td>\n",
       "      <td>141.300003</td>\n",
       "      <td>143.630005</td>\n",
       "      <td>140.449997</td>\n",
       "      <td>141.669998</td>\n",
       "      <td>141.669998</td>\n",
       "      <td>14297959</td>\n",
       "    </tr>\n",
       "  </tbody>\n",
       "</table>\n",
       "</div>"
      ],
      "text/plain": [
       "           Date        Open        High         Low       Close   Adj Close  \\\n",
       "12486  3/2/2022  135.660004  136.830002  135.179993  136.160004  136.160004   \n",
       "12487  3/3/2022  137.289993  140.470001  136.550003  139.289993  139.289993   \n",
       "12488  3/4/2022  137.809998  142.940002  137.589996  142.820007  142.820007   \n",
       "12489  3/7/2022  141.300003  143.630005  140.449997  141.669998  141.669998   \n",
       "12490  3/7/2022  141.300003  143.630005  140.449997  141.669998  141.669998   \n",
       "\n",
       "         Volume  \n",
       "12486   7954600  \n",
       "12487   9961700  \n",
       "12488  11858800  \n",
       "12489  15273000  \n",
       "12490  14297959  "
      ]
     },
     "execution_count": 5,
     "metadata": {},
     "output_type": "execute_result"
    }
   ],
   "source": [
    "df.tail()"
   ]
  },
  {
   "cell_type": "code",
   "execution_count": 6,
   "id": "f4ec2b9a",
   "metadata": {},
   "outputs": [
    {
     "data": {
      "text/plain": [
       "(12491, 7)"
      ]
     },
     "execution_count": 6,
     "metadata": {},
     "output_type": "execute_result"
    }
   ],
   "source": [
    "df.shape"
   ]
  },
  {
   "cell_type": "code",
   "execution_count": 7,
   "id": "145bda64",
   "metadata": {},
   "outputs": [
    {
     "data": {
      "text/html": [
       "<div>\n",
       "<style scoped>\n",
       "    .dataframe tbody tr th:only-of-type {\n",
       "        vertical-align: middle;\n",
       "    }\n",
       "\n",
       "    .dataframe tbody tr th {\n",
       "        vertical-align: top;\n",
       "    }\n",
       "\n",
       "    .dataframe thead th {\n",
       "        text-align: right;\n",
       "    }\n",
       "</style>\n",
       "<table border=\"1\" class=\"dataframe\">\n",
       "  <thead>\n",
       "    <tr style=\"text-align: right;\">\n",
       "      <th></th>\n",
       "      <th>Open</th>\n",
       "      <th>High</th>\n",
       "      <th>Low</th>\n",
       "      <th>Close</th>\n",
       "      <th>Adj Close</th>\n",
       "      <th>Volume</th>\n",
       "    </tr>\n",
       "  </thead>\n",
       "  <tbody>\n",
       "    <tr>\n",
       "      <th>count</th>\n",
       "      <td>12491.000000</td>\n",
       "      <td>12491.000000</td>\n",
       "      <td>12491.000000</td>\n",
       "      <td>12491.000000</td>\n",
       "      <td>12491.000000</td>\n",
       "      <td>1.249100e+04</td>\n",
       "    </tr>\n",
       "    <tr>\n",
       "      <th>mean</th>\n",
       "      <td>35.479198</td>\n",
       "      <td>35.811310</td>\n",
       "      <td>35.151302</td>\n",
       "      <td>35.485380</td>\n",
       "      <td>28.948680</td>\n",
       "      <td>7.540560e+06</td>\n",
       "    </tr>\n",
       "    <tr>\n",
       "      <th>std</th>\n",
       "      <td>37.207071</td>\n",
       "      <td>37.519419</td>\n",
       "      <td>36.914186</td>\n",
       "      <td>37.214409</td>\n",
       "      <td>34.585375</td>\n",
       "      <td>6.237162e+06</td>\n",
       "    </tr>\n",
       "    <tr>\n",
       "      <th>min</th>\n",
       "      <td>0.015625</td>\n",
       "      <td>0.015625</td>\n",
       "      <td>0.014404</td>\n",
       "      <td>0.015625</td>\n",
       "      <td>0.008889</td>\n",
       "      <td>0.000000e+00</td>\n",
       "    </tr>\n",
       "    <tr>\n",
       "      <th>25%</th>\n",
       "      <td>1.386719</td>\n",
       "      <td>1.402344</td>\n",
       "      <td>1.375000</td>\n",
       "      <td>1.386719</td>\n",
       "      <td>0.858323</td>\n",
       "      <td>3.883600e+06</td>\n",
       "    </tr>\n",
       "    <tr>\n",
       "      <th>50%</th>\n",
       "      <td>16.437500</td>\n",
       "      <td>16.593750</td>\n",
       "      <td>16.250000</td>\n",
       "      <td>16.375000</td>\n",
       "      <td>10.588767</td>\n",
       "      <td>6.312800e+06</td>\n",
       "    </tr>\n",
       "    <tr>\n",
       "      <th>75%</th>\n",
       "      <td>56.395001</td>\n",
       "      <td>57.000000</td>\n",
       "      <td>55.664999</td>\n",
       "      <td>56.316250</td>\n",
       "      <td>40.920847</td>\n",
       "      <td>9.511400e+06</td>\n",
       "    </tr>\n",
       "    <tr>\n",
       "      <th>max</th>\n",
       "      <td>153.600006</td>\n",
       "      <td>153.660004</td>\n",
       "      <td>151.660004</td>\n",
       "      <td>152.789993</td>\n",
       "      <td>150.842651</td>\n",
       "      <td>1.318336e+08</td>\n",
       "    </tr>\n",
       "  </tbody>\n",
       "</table>\n",
       "</div>"
      ],
      "text/plain": [
       "               Open          High           Low         Close     Adj Close  \\\n",
       "count  12491.000000  12491.000000  12491.000000  12491.000000  12491.000000   \n",
       "mean      35.479198     35.811310     35.151302     35.485380     28.948680   \n",
       "std       37.207071     37.519419     36.914186     37.214409     34.585375   \n",
       "min        0.015625      0.015625      0.014404      0.015625      0.008889   \n",
       "25%        1.386719      1.402344      1.375000      1.386719      0.858323   \n",
       "50%       16.437500     16.593750     16.250000     16.375000     10.588767   \n",
       "75%       56.395001     57.000000     55.664999     56.316250     40.920847   \n",
       "max      153.600006    153.660004    151.660004    152.789993    150.842651   \n",
       "\n",
       "             Volume  \n",
       "count  1.249100e+04  \n",
       "mean   7.540560e+06  \n",
       "std    6.237162e+06  \n",
       "min    0.000000e+00  \n",
       "25%    3.883600e+06  \n",
       "50%    6.312800e+06  \n",
       "75%    9.511400e+06  \n",
       "max    1.318336e+08  "
      ]
     },
     "execution_count": 7,
     "metadata": {},
     "output_type": "execute_result"
    }
   ],
   "source": [
    "df.describe()"
   ]
  },
  {
   "cell_type": "code",
   "execution_count": 8,
   "id": "c1e18148",
   "metadata": {},
   "outputs": [
    {
     "name": "stdout",
     "output_type": "stream",
     "text": [
      "<class 'pandas.core.frame.DataFrame'>\n",
      "RangeIndex: 12491 entries, 0 to 12490\n",
      "Data columns (total 7 columns):\n",
      " #   Column     Non-Null Count  Dtype  \n",
      "---  ------     --------------  -----  \n",
      " 0   Date       12491 non-null  object \n",
      " 1   Open       12491 non-null  float64\n",
      " 2   High       12491 non-null  float64\n",
      " 3   Low        12491 non-null  float64\n",
      " 4   Close      12491 non-null  float64\n",
      " 5   Adj Close  12491 non-null  float64\n",
      " 6   Volume     12491 non-null  int64  \n",
      "dtypes: float64(5), int64(1), object(1)\n",
      "memory usage: 683.2+ KB\n"
     ]
    }
   ],
   "source": [
    "df.info()"
   ]
  },
  {
   "cell_type": "code",
   "execution_count": 9,
   "id": "c6fb4a21",
   "metadata": {},
   "outputs": [
    {
     "data": {
      "text/plain": [
       "Date         12491\n",
       "Open         12491\n",
       "High         12491\n",
       "Low          12491\n",
       "Close        12491\n",
       "Adj Close    12491\n",
       "Volume       12491\n",
       "dtype: int64"
      ]
     },
     "execution_count": 9,
     "metadata": {},
     "output_type": "execute_result"
    }
   ],
   "source": [
    "# check for non-null values\n",
    "df.count()"
   ]
  },
  {
   "cell_type": "code",
   "execution_count": 10,
   "id": "05708b03",
   "metadata": {},
   "outputs": [
    {
     "data": {
      "text/plain": [
       "Date         0\n",
       "Open         0\n",
       "High         0\n",
       "Low          0\n",
       "Close        0\n",
       "Adj Close    0\n",
       "Volume       0\n",
       "dtype: int64"
      ]
     },
     "execution_count": 10,
     "metadata": {},
     "output_type": "execute_result"
    }
   ],
   "source": [
    "#checking for the null values\n",
    "df.isnull().sum()"
   ]
  },
  {
   "cell_type": "code",
   "execution_count": 11,
   "id": "3d61d2dd",
   "metadata": {},
   "outputs": [],
   "source": [
    "#Check for required columns\n",
    "df = df[['Date','Open','Close']] \n",
    "\n",
    "# converting object dtype of date column to datetime dtype\n",
    "\n",
    "df['Date'] = pd.to_datetime(df['Date'].apply(lambda x: x.split()[0])) "
   ]
  },
  {
   "cell_type": "code",
   "execution_count": 12,
   "id": "9eac7080",
   "metadata": {},
   "outputs": [
    {
     "data": {
      "text/html": [
       "<div>\n",
       "<style scoped>\n",
       "    .dataframe tbody tr th:only-of-type {\n",
       "        vertical-align: middle;\n",
       "    }\n",
       "\n",
       "    .dataframe tbody tr th {\n",
       "        vertical-align: top;\n",
       "    }\n",
       "\n",
       "    .dataframe thead th {\n",
       "        text-align: right;\n",
       "    }\n",
       "</style>\n",
       "<table border=\"1\" class=\"dataframe\">\n",
       "  <thead>\n",
       "    <tr style=\"text-align: right;\">\n",
       "      <th></th>\n",
       "      <th>Open</th>\n",
       "      <th>Close</th>\n",
       "    </tr>\n",
       "    <tr>\n",
       "      <th>Date</th>\n",
       "      <th></th>\n",
       "      <th></th>\n",
       "    </tr>\n",
       "  </thead>\n",
       "  <tbody>\n",
       "    <tr>\n",
       "      <th>1972-08-25</th>\n",
       "      <td>0.063477</td>\n",
       "      <td>0.064453</td>\n",
       "    </tr>\n",
       "    <tr>\n",
       "      <th>1972-08-28</th>\n",
       "      <td>0.064453</td>\n",
       "      <td>0.064209</td>\n",
       "    </tr>\n",
       "    <tr>\n",
       "      <th>1972-08-29</th>\n",
       "      <td>0.063965</td>\n",
       "      <td>0.063477</td>\n",
       "    </tr>\n",
       "    <tr>\n",
       "      <th>1972-08-30</th>\n",
       "      <td>0.063477</td>\n",
       "      <td>0.063477</td>\n",
       "    </tr>\n",
       "    <tr>\n",
       "      <th>1972-08-31</th>\n",
       "      <td>0.062988</td>\n",
       "      <td>0.062500</td>\n",
       "    </tr>\n",
       "    <tr>\n",
       "      <th>1972-09-01</th>\n",
       "      <td>0.062744</td>\n",
       "      <td>0.062988</td>\n",
       "    </tr>\n",
       "    <tr>\n",
       "      <th>1972-09-05</th>\n",
       "      <td>0.062988</td>\n",
       "      <td>0.062500</td>\n",
       "    </tr>\n",
       "    <tr>\n",
       "      <th>1972-09-06</th>\n",
       "      <td>0.062988</td>\n",
       "      <td>0.062988</td>\n",
       "    </tr>\n",
       "    <tr>\n",
       "      <th>1972-09-07</th>\n",
       "      <td>0.062988</td>\n",
       "      <td>0.062744</td>\n",
       "    </tr>\n",
       "    <tr>\n",
       "      <th>1972-09-08</th>\n",
       "      <td>0.062500</td>\n",
       "      <td>0.062256</td>\n",
       "    </tr>\n",
       "  </tbody>\n",
       "</table>\n",
       "</div>"
      ],
      "text/plain": [
       "                Open     Close\n",
       "Date                          \n",
       "1972-08-25  0.063477  0.064453\n",
       "1972-08-28  0.064453  0.064209\n",
       "1972-08-29  0.063965  0.063477\n",
       "1972-08-30  0.063477  0.063477\n",
       "1972-08-31  0.062988  0.062500\n",
       "1972-09-01  0.062744  0.062988\n",
       "1972-09-05  0.062988  0.062500\n",
       "1972-09-06  0.062988  0.062988\n",
       "1972-09-07  0.062988  0.062744\n",
       "1972-09-08  0.062500  0.062256"
      ]
     },
     "execution_count": 12,
     "metadata": {},
     "output_type": "execute_result"
    }
   ],
   "source": [
    "df.set_index('Date',drop=True,inplace=True) \n",
    "df.head(10)"
   ]
  },
  {
   "cell_type": "markdown",
   "id": "a21593f1",
   "metadata": {},
   "source": [
    "## 3) Data Visualization"
   ]
  },
  {
   "cell_type": "code",
   "execution_count": 13,
   "id": "7929fa77",
   "metadata": {},
   "outputs": [
    {
     "data": {
      "text/plain": [
       "<AxesSubplot:xlabel='Date'>"
      ]
     },
     "execution_count": 13,
     "metadata": {},
     "output_type": "execute_result"
    },
    {
     "data": {
      "image/png": "[encoded data removed]",
      "text/plain": [
       "<Figure size 432x288 with 1 Axes>"
      ]
     },
     "metadata": {
      "needs_background": "light"
     },
     "output_type": "display_data"
    }
   ],
   "source": [
    "df1['Adj Close'].plot()"
   ]
  },
  {
   "cell_type": "code",
   "execution_count": 14,
   "id": "a65b0ef3",
   "metadata": {},
   "outputs": [
    {
     "data": {
      "text/plain": [
       "array([[<AxesSubplot:title={'center':'Open'}>,\n",
       "        <AxesSubplot:title={'center':'Close'}>]], dtype=object)"
      ]
     },
     "execution_count": 14,
     "metadata": {},
     "output_type": "execute_result"
    },
    {
     "data": {
      "image/png": "[encoded data removed]",
      "text/plain": [
       "<Figure size 432x288 with 2 Axes>"
      ]
     },
     "metadata": {
      "needs_background": "light"
     },
     "output_type": "display_data"
    }
   ],
   "source": [
    "df.hist()\n"
   ]
  },
  {
   "cell_type": "code",
   "execution_count": 15,
   "id": "4b96a8c1",
   "metadata": {},
   "outputs": [
    {
     "data": {
      "image/png": "[encoded data removed]",
      "text/plain": [
       "<Figure size 1440x504 with 2 Axes>"
      ]
     },
     "metadata": {
      "needs_background": "light"
     },
     "output_type": "display_data"
    }
   ],
   "source": [
    "# plotting open and closing price on date index\n",
    "fig, ax =plt.subplots(1,2,figsize=(20,7))\n",
    "ax[0].plot(df['Open'],label='Open',color='blue')\n",
    "ax[0].set_xlabel('Date',size=15)\n",
    "ax[0].set_ylabel('Price',size=15)\n",
    "ax[0].legend()\n",
    "\n",
    "ax[1].plot(df['Close'],label='Close',color='green')\n",
    "ax[1].set_xlabel('Date',size=15)\n",
    "ax[1].set_ylabel('Price',size=15)\n",
    "ax[1].legend()\n",
    "\n",
    "fig.show()"
   ]
  },
  {
   "cell_type": "code",
   "execution_count": 16,
   "id": "a88b2bf4",
   "metadata": {},
   "outputs": [
    {
     "data": {
      "image/png": "[encoded data removed]",
      "text/plain": [
       "<Figure size 864x432 with 1 Axes>"
      ]
     },
     "metadata": {
      "needs_background": "light"
     },
     "output_type": "display_data"
    }
   ],
   "source": [
    "plt.figure(figsize=(12, 6))\n",
    "plt.plot(df.index, df['Close'], label='Close Price')\n",
    "plt.xlabel('Date')\n",
    "plt.ylabel('Close Price')\n",
    "plt.title('Stock Price Over Time')\n",
    "plt.legend()\n",
    "plt.show()"
   ]
  },
  {
   "cell_type": "markdown",
   "id": "f1b9410d",
   "metadata": {},
   "source": [
    "## 4) Data Pre-Processing"
   ]
  },
  {
   "cell_type": "code",
   "execution_count": 17,
   "id": "de9db7f3",
   "metadata": {},
   "outputs": [
    {
     "data": {
      "text/html": [
       "<div>\n",
       "<style scoped>\n",
       "    .dataframe tbody tr th:only-of-type {\n",
       "        vertical-align: middle;\n",
       "    }\n",
       "\n",
       "    .dataframe tbody tr th {\n",
       "        vertical-align: top;\n",
       "    }\n",
       "\n",
       "    .dataframe thead th {\n",
       "        text-align: right;\n",
       "    }\n",
       "</style>\n",
       "<table border=\"1\" class=\"dataframe\">\n",
       "  <thead>\n",
       "    <tr style=\"text-align: right;\">\n",
       "      <th></th>\n",
       "      <th>Open</th>\n",
       "      <th>Close</th>\n",
       "    </tr>\n",
       "    <tr>\n",
       "      <th>Date</th>\n",
       "      <th></th>\n",
       "      <th></th>\n",
       "    </tr>\n",
       "  </thead>\n",
       "  <tbody>\n",
       "    <tr>\n",
       "      <th>1972-08-25</th>\n",
       "      <td>0.000312</td>\n",
       "      <td>0.000320</td>\n",
       "    </tr>\n",
       "    <tr>\n",
       "      <th>1972-08-28</th>\n",
       "      <td>0.000318</td>\n",
       "      <td>0.000318</td>\n",
       "    </tr>\n",
       "    <tr>\n",
       "      <th>1972-08-29</th>\n",
       "      <td>0.000315</td>\n",
       "      <td>0.000313</td>\n",
       "    </tr>\n",
       "    <tr>\n",
       "      <th>1972-08-30</th>\n",
       "      <td>0.000312</td>\n",
       "      <td>0.000313</td>\n",
       "    </tr>\n",
       "    <tr>\n",
       "      <th>1972-08-31</th>\n",
       "      <td>0.000308</td>\n",
       "      <td>0.000307</td>\n",
       "    </tr>\n",
       "    <tr>\n",
       "      <th>1972-09-01</th>\n",
       "      <td>0.000307</td>\n",
       "      <td>0.000310</td>\n",
       "    </tr>\n",
       "    <tr>\n",
       "      <th>1972-09-05</th>\n",
       "      <td>0.000308</td>\n",
       "      <td>0.000307</td>\n",
       "    </tr>\n",
       "    <tr>\n",
       "      <th>1972-09-06</th>\n",
       "      <td>0.000308</td>\n",
       "      <td>0.000310</td>\n",
       "    </tr>\n",
       "    <tr>\n",
       "      <th>1972-09-07</th>\n",
       "      <td>0.000308</td>\n",
       "      <td>0.000308</td>\n",
       "    </tr>\n",
       "    <tr>\n",
       "      <th>1972-09-08</th>\n",
       "      <td>0.000305</td>\n",
       "      <td>0.000305</td>\n",
       "    </tr>\n",
       "  </tbody>\n",
       "</table>\n",
       "</div>"
      ],
      "text/plain": [
       "                Open     Close\n",
       "Date                          \n",
       "1972-08-25  0.000312  0.000320\n",
       "1972-08-28  0.000318  0.000318\n",
       "1972-08-29  0.000315  0.000313\n",
       "1972-08-30  0.000312  0.000313\n",
       "1972-08-31  0.000308  0.000307\n",
       "1972-09-01  0.000307  0.000310\n",
       "1972-09-05  0.000308  0.000307\n",
       "1972-09-06  0.000308  0.000310\n",
       "1972-09-07  0.000308  0.000308\n",
       "1972-09-08  0.000305  0.000305"
      ]
     },
     "execution_count": 17,
     "metadata": {},
     "output_type": "execute_result"
    }
   ],
   "source": [
    "# normalizing all the values of all columns using MinMaxScaler\n",
    "MMS = MinMaxScaler()\n",
    "df[df.columns] = MMS.fit_transform(df)\n",
    "df.head(10)"
   ]
  },
  {
   "cell_type": "code",
   "execution_count": 18,
   "id": "bffb55ac",
   "metadata": {},
   "outputs": [
    {
     "data": {
      "text/html": [
       "<div>\n",
       "<style scoped>\n",
       "    .dataframe tbody tr th:only-of-type {\n",
       "        vertical-align: middle;\n",
       "    }\n",
       "\n",
       "    .dataframe tbody tr th {\n",
       "        vertical-align: top;\n",
       "    }\n",
       "\n",
       "    .dataframe thead th {\n",
       "        text-align: right;\n",
       "    }\n",
       "</style>\n",
       "<table border=\"1\" class=\"dataframe\">\n",
       "  <thead>\n",
       "    <tr style=\"text-align: right;\">\n",
       "      <th></th>\n",
       "      <th>Open</th>\n",
       "      <th>Close</th>\n",
       "    </tr>\n",
       "    <tr>\n",
       "      <th>Date</th>\n",
       "      <th></th>\n",
       "      <th></th>\n",
       "    </tr>\n",
       "  </thead>\n",
       "  <tbody>\n",
       "    <tr>\n",
       "      <th>2022-02-23</th>\n",
       "      <td>0.891005</td>\n",
       "      <td>0.883881</td>\n",
       "    </tr>\n",
       "    <tr>\n",
       "      <th>2022-02-24</th>\n",
       "      <td>0.871797</td>\n",
       "      <td>0.880477</td>\n",
       "    </tr>\n",
       "    <tr>\n",
       "      <th>2022-02-25</th>\n",
       "      <td>0.877657</td>\n",
       "      <td>0.892587</td>\n",
       "    </tr>\n",
       "    <tr>\n",
       "      <th>2022-02-28</th>\n",
       "      <td>0.878894</td>\n",
       "      <td>0.884601</td>\n",
       "    </tr>\n",
       "    <tr>\n",
       "      <th>2022-03-01</th>\n",
       "      <td>0.884559</td>\n",
       "      <td>0.890034</td>\n",
       "    </tr>\n",
       "    <tr>\n",
       "      <th>2022-03-02</th>\n",
       "      <td>0.883191</td>\n",
       "      <td>0.891147</td>\n",
       "    </tr>\n",
       "    <tr>\n",
       "      <th>2022-03-03</th>\n",
       "      <td>0.893804</td>\n",
       "      <td>0.911634</td>\n",
       "    </tr>\n",
       "    <tr>\n",
       "      <th>2022-03-04</th>\n",
       "      <td>0.897190</td>\n",
       "      <td>0.934740</td>\n",
       "    </tr>\n",
       "    <tr>\n",
       "      <th>2022-03-07</th>\n",
       "      <td>0.919914</td>\n",
       "      <td>0.927213</td>\n",
       "    </tr>\n",
       "    <tr>\n",
       "      <th>2022-03-07</th>\n",
       "      <td>0.919914</td>\n",
       "      <td>0.927213</td>\n",
       "    </tr>\n",
       "  </tbody>\n",
       "</table>\n",
       "</div>"
      ],
      "text/plain": [
       "                Open     Close\n",
       "Date                          \n",
       "2022-02-23  0.891005  0.883881\n",
       "2022-02-24  0.871797  0.880477\n",
       "2022-02-25  0.877657  0.892587\n",
       "2022-02-28  0.878894  0.884601\n",
       "2022-03-01  0.884559  0.890034\n",
       "2022-03-02  0.883191  0.891147\n",
       "2022-03-03  0.893804  0.911634\n",
       "2022-03-04  0.897190  0.934740\n",
       "2022-03-07  0.919914  0.927213\n",
       "2022-03-07  0.919914  0.927213"
      ]
     },
     "execution_count": 18,
     "metadata": {},
     "output_type": "execute_result"
    }
   ],
   "source": [
    "df.tail(10)"
   ]
  },
  {
   "cell_type": "code",
   "execution_count": 19,
   "id": "2cbc23ba",
   "metadata": {},
   "outputs": [],
   "source": [
    "# splitting the data into train and test set\n",
    "# Select 75 % for train and 25 % for test\n",
    "training_size = round(len(df) * 0.75) "
   ]
  },
  {
   "cell_type": "code",
   "execution_count": 20,
   "id": "a6428f2e",
   "metadata": {},
   "outputs": [
    {
     "data": {
      "text/plain": [
       "9368"
      ]
     },
     "execution_count": 20,
     "metadata": {},
     "output_type": "execute_result"
    }
   ],
   "source": [
    "training_size"
   ]
  },
  {
   "cell_type": "code",
   "execution_count": 21,
   "id": "424a0f87",
   "metadata": {},
   "outputs": [
    {
     "data": {
      "text/plain": [
       "((9368, 2), (3123, 2))"
      ]
     },
     "execution_count": 21,
     "metadata": {},
     "output_type": "execute_result"
    }
   ],
   "source": [
    "train_data = df[:training_size]\n",
    "test_data  = df[training_size:]\n",
    "\n",
    "train_data.shape, test_data.shape"
   ]
  },
  {
   "cell_type": "code",
   "execution_count": 22,
   "id": "33d40d99",
   "metadata": {},
   "outputs": [],
   "source": [
    "# Function to create sequence of data for training and testing\n",
    "\n",
    "def create_sequence(dataset):\n",
    "  sequences = []\n",
    "  labels = []\n",
    "\n",
    "  start_idx = 0\n",
    "\n",
    "  for stop_idx in range(50,len(dataset)): # Selecting 50 rows at a time\n",
    "    sequences.append(dataset.iloc[start_idx:stop_idx])\n",
    "    labels.append(dataset.iloc[stop_idx])\n",
    "    start_idx += 1\n",
    "  return (np.array(sequences),np.array(labels))"
   ]
  },
  {
   "cell_type": "code",
   "execution_count": 23,
   "id": "e5ee30c4",
   "metadata": {},
   "outputs": [
    {
     "data": {
      "text/plain": [
       "((9318, 50, 2), (9318, 2), (3073, 50, 2), (3073, 2))"
      ]
     },
     "execution_count": 23,
     "metadata": {},
     "output_type": "execute_result"
    }
   ],
   "source": [
    "train_seq, train_label = create_sequence(train_data) \n",
    "test_seq, test_label = create_sequence(test_data)\n",
    "train_seq.shape, train_label.shape, test_seq.shape, test_label.shape"
   ]
  },
  {
   "cell_type": "code",
   "execution_count": 24,
   "id": "f39fce2e",
   "metadata": {},
   "outputs": [],
   "source": [
    "from sklearn.model_selection import train_test_split\n",
    "from sklearn.linear_model import LinearRegression\n",
    "from sklearn.metrics import mean_squared_error, r2_score"
   ]
  },
  {
   "cell_type": "code",
   "execution_count": 25,
   "id": "3377413b",
   "metadata": {},
   "outputs": [],
   "source": [
    "X = df.drop(['Close'], axis=1)\n",
    "y = df['Close']\n",
    "\n",
    "X_train, X_test, y_train, y_test = train_test_split(X, y, test_size=0.2, shuffle=False)"
   ]
  },
  {
   "cell_type": "code",
   "execution_count": 26,
   "id": "c46e91e8",
   "metadata": {},
   "outputs": [
    {
     "name": "stdout",
     "output_type": "stream",
     "text": [
      "Mean Squared Error: 4.4238754929262704e-05\n",
      "Root Mean Squared Error: 0.006651222062843993\n",
      "R-squared: 0.9985355467727686\n"
     ]
    }
   ],
   "source": [
    "reg_model = LinearRegression()\n",
    "\n",
    "reg_model.fit(X_train, y_train)\n",
    "\n",
    "y_pred = reg_model.predict(X_test)\n",
    "\n",
    "mse = mean_squared_error(y_test, y_pred)\n",
    "r2 = r2_score(y_test, y_pred)\n",
    "\n",
    "print(f\"Mean Squared Error: {mse}\")\n",
    "print(f\"Root Mean Squared Error: {mse ** 0.5}\")\n",
    "print(f\"R-squared: {r2}\")\n",
    "     "
   ]
  },
  {
   "cell_type": "markdown",
   "id": "51366a23",
   "metadata": {},
   "source": [
    "## 5) CREATING LSTM MODEL"
   ]
  },
  {
   "cell_type": "code",
   "execution_count": 27,
   "id": "aacd47fd",
   "metadata": {},
   "outputs": [
    {
     "name": "stdout",
     "output_type": "stream",
     "text": [
      "Model: \"sequential\"\n",
      "_________________________________________________________________\n",
      " Layer (type)                Output Shape              Param #   \n",
      "=================================================================\n",
      " lstm (LSTM)                 (None, 50, 25)            2800      \n",
      "                                                                 \n",
      " dropout (Dropout)           (None, 50, 25)            0         \n",
      "                                                                 \n",
      " lstm_1 (LSTM)               (None, 25)                5100      \n",
      "                                                                 \n",
      " dense (Dense)               (None, 2)                 52        \n",
      "                                                                 \n",
      "=================================================================\n",
      "Total params: 7952 (31.06 KB)\n",
      "Trainable params: 7952 (31.06 KB)\n",
      "Non-trainable params: 0 (0.00 Byte)\n",
      "_________________________________________________________________\n"
     ]
    }
   ],
   "source": [
    "# imported Sequential from keras.models \n",
    "model = Sequential()\n",
    "# importing Dense, Dropout, LSTM, Bidirectional from keras.layers \n",
    "model.add(LSTM(units=25, return_sequences=True, input_shape = (train_seq.shape[1], train_seq.shape[2])))\n",
    "\n",
    "model.add(Dropout(0.1)) \n",
    "model.add(LSTM(units=25))\n",
    "\n",
    "model.add(Dense(2))\n",
    "\n",
    "model.compile(loss='mean_squared_error', optimizer='adam', metrics=['mean_absolute_error'])\n",
    "\n",
    "model.summary()"
   ]
  },
  {
   "cell_type": "code",
   "execution_count": 28,
   "id": "2d6e5273",
   "metadata": {},
   "outputs": [
    {
     "name": "stdout",
     "output_type": "stream",
     "text": [
      "Epoch 1/100\n",
      "292/292 [==============================] - 26s 66ms/step - loss: 7.0537e-04 - mean_absolute_error: 0.0109 - val_loss: 0.0059 - val_mean_absolute_error: 0.0474\n",
      "Epoch 2/100\n",
      "292/292 [==============================] - 19s 64ms/step - loss: 9.0479e-05 - mean_absolute_error: 0.0054 - val_loss: 0.0065 - val_mean_absolute_error: 0.0503\n",
      "Epoch 3/100\n",
      "292/292 [==============================] - 19s 65ms/step - loss: 8.2167e-05 - mean_absolute_error: 0.0051 - val_loss: 0.0072 - val_mean_absolute_error: 0.0558\n",
      "Epoch 4/100\n",
      "292/292 [==============================] - 19s 65ms/step - loss: 7.5469e-05 - mean_absolute_error: 0.0051 - val_loss: 0.0071 - val_mean_absolute_error: 0.0554\n",
      "Epoch 5/100\n",
      "292/292 [==============================] - 19s 64ms/step - loss: 7.1668e-05 - mean_absolute_error: 0.0049 - val_loss: 0.0066 - val_mean_absolute_error: 0.0516\n",
      "Epoch 6/100\n",
      "292/292 [==============================] - 20s 67ms/step - loss: 6.6757e-05 - mean_absolute_error: 0.0048 - val_loss: 0.0090 - val_mean_absolute_error: 0.0636\n",
      "Epoch 7/100\n",
      "292/292 [==============================] - 19s 66ms/step - loss: 6.7841e-05 - mean_absolute_error: 0.0050 - val_loss: 0.0085 - val_mean_absolute_error: 0.0608\n",
      "Epoch 8/100\n",
      "292/292 [==============================] - 19s 66ms/step - loss: 6.2394e-05 - mean_absolute_error: 0.0047 - val_loss: 0.0090 - val_mean_absolute_error: 0.0632\n",
      "Epoch 9/100\n",
      "292/292 [==============================] - 19s 65ms/step - loss: 6.6091e-05 - mean_absolute_error: 0.0050 - val_loss: 0.0069 - val_mean_absolute_error: 0.0528\n",
      "Epoch 10/100\n",
      "292/292 [==============================] - 20s 67ms/step - loss: 5.5973e-05 - mean_absolute_error: 0.0045 - val_loss: 0.0079 - val_mean_absolute_error: 0.0568\n",
      "Epoch 11/100\n",
      "292/292 [==============================] - 19s 65ms/step - loss: 5.5401e-05 - mean_absolute_error: 0.0046 - val_loss: 0.0061 - val_mean_absolute_error: 0.0487\n",
      "Epoch 12/100\n",
      "292/292 [==============================] - 19s 66ms/step - loss: 5.4677e-05 - mean_absolute_error: 0.0046 - val_loss: 0.0070 - val_mean_absolute_error: 0.0539\n",
      "Epoch 13/100\n",
      "292/292 [==============================] - 21s 71ms/step - loss: 5.1978e-05 - mean_absolute_error: 0.0045 - val_loss: 0.0052 - val_mean_absolute_error: 0.0470\n",
      "Epoch 14/100\n",
      "292/292 [==============================] - 20s 68ms/step - loss: 5.1137e-05 - mean_absolute_error: 0.0044 - val_loss: 0.0051 - val_mean_absolute_error: 0.0434\n",
      "Epoch 15/100\n",
      "292/292 [==============================] - 19s 67ms/step - loss: 5.3021e-05 - mean_absolute_error: 0.0046 - val_loss: 0.0043 - val_mean_absolute_error: 0.0448\n",
      "Epoch 16/100\n",
      "292/292 [==============================] - 19s 66ms/step - loss: 4.3162e-05 - mean_absolute_error: 0.0041 - val_loss: 0.0044 - val_mean_absolute_error: 0.0435\n",
      "Epoch 17/100\n",
      "292/292 [==============================] - 19s 66ms/step - loss: 4.8194e-05 - mean_absolute_error: 0.0044 - val_loss: 0.0044 - val_mean_absolute_error: 0.0432\n",
      "Epoch 18/100\n",
      "292/292 [==============================] - 20s 68ms/step - loss: 4.8874e-05 - mean_absolute_error: 0.0045 - val_loss: 0.0039 - val_mean_absolute_error: 0.0393\n",
      "Epoch 19/100\n",
      "292/292 [==============================] - 19s 66ms/step - loss: 4.3923e-05 - mean_absolute_error: 0.0043 - val_loss: 0.0048 - val_mean_absolute_error: 0.0491\n",
      "Epoch 20/100\n",
      "292/292 [==============================] - 19s 65ms/step - loss: 4.4289e-05 - mean_absolute_error: 0.0043 - val_loss: 0.0036 - val_mean_absolute_error: 0.0407\n",
      "Epoch 21/100\n",
      "292/292 [==============================] - 19s 66ms/step - loss: 3.9583e-05 - mean_absolute_error: 0.0041 - val_loss: 0.0020 - val_mean_absolute_error: 0.0320\n",
      "Epoch 22/100\n",
      "292/292 [==============================] - 20s 68ms/step - loss: 3.9897e-05 - mean_absolute_error: 0.0041 - val_loss: 0.0014 - val_mean_absolute_error: 0.0265\n",
      "Epoch 23/100\n",
      "292/292 [==============================] - 19s 66ms/step - loss: 3.6149e-05 - mean_absolute_error: 0.0039 - val_loss: 2.9893e-04 - val_mean_absolute_error: 0.0123\n",
      "Epoch 24/100\n",
      "292/292 [==============================] - 19s 67ms/step - loss: 3.5519e-05 - mean_absolute_error: 0.0039 - val_loss: 5.4255e-04 - val_mean_absolute_error: 0.0161\n",
      "Epoch 25/100\n",
      "292/292 [==============================] - 19s 65ms/step - loss: 3.2051e-05 - mean_absolute_error: 0.0037 - val_loss: 1.8187e-04 - val_mean_absolute_error: 0.0102\n",
      "Epoch 26/100\n",
      "292/292 [==============================] - 20s 68ms/step - loss: 3.2414e-05 - mean_absolute_error: 0.0038 - val_loss: 1.4947e-04 - val_mean_absolute_error: 0.0092\n",
      "Epoch 27/100\n",
      "292/292 [==============================] - 20s 67ms/step - loss: 3.2850e-05 - mean_absolute_error: 0.0038 - val_loss: 2.6225e-04 - val_mean_absolute_error: 0.0124\n",
      "Epoch 28/100\n",
      "292/292 [==============================] - 19s 67ms/step - loss: 2.9420e-05 - mean_absolute_error: 0.0036 - val_loss: 3.4686e-04 - val_mean_absolute_error: 0.0137\n",
      "Epoch 29/100\n",
      "292/292 [==============================] - 19s 65ms/step - loss: 2.9342e-05 - mean_absolute_error: 0.0036 - val_loss: 3.4388e-04 - val_mean_absolute_error: 0.0153\n",
      "Epoch 30/100\n",
      "292/292 [==============================] - 20s 70ms/step - loss: 2.6181e-05 - mean_absolute_error: 0.0034 - val_loss: 1.5723e-04 - val_mean_absolute_error: 0.0102\n",
      "Epoch 31/100\n",
      "292/292 [==============================] - 19s 66ms/step - loss: 2.8506e-05 - mean_absolute_error: 0.0036 - val_loss: 1.2017e-04 - val_mean_absolute_error: 0.0086\n",
      "Epoch 32/100\n",
      "292/292 [==============================] - 20s 69ms/step - loss: 2.6601e-05 - mean_absolute_error: 0.0034 - val_loss: 5.4228e-04 - val_mean_absolute_error: 0.0186\n",
      "Epoch 33/100\n",
      "292/292 [==============================] - 20s 67ms/step - loss: 2.8067e-05 - mean_absolute_error: 0.0035 - val_loss: 2.0756e-04 - val_mean_absolute_error: 0.0110\n",
      "Epoch 34/100\n",
      "292/292 [==============================] - 21s 71ms/step - loss: 2.4265e-05 - mean_absolute_error: 0.0033 - val_loss: 1.4299e-04 - val_mean_absolute_error: 0.0075\n",
      "Epoch 35/100\n",
      "292/292 [==============================] - 21s 72ms/step - loss: 2.3653e-05 - mean_absolute_error: 0.0033 - val_loss: 2.1302e-04 - val_mean_absolute_error: 0.0110\n",
      "Epoch 36/100\n",
      "292/292 [==============================] - 20s 69ms/step - loss: 2.3056e-05 - mean_absolute_error: 0.0033 - val_loss: 6.3330e-05 - val_mean_absolute_error: 0.0050\n",
      "Epoch 37/100\n",
      "292/292 [==============================] - 20s 67ms/step - loss: 2.2837e-05 - mean_absolute_error: 0.0033 - val_loss: 1.0030e-04 - val_mean_absolute_error: 0.0061\n",
      "Epoch 38/100\n",
      "292/292 [==============================] - 20s 70ms/step - loss: 2.2891e-05 - mean_absolute_error: 0.0032 - val_loss: 8.4441e-05 - val_mean_absolute_error: 0.0062\n",
      "Epoch 39/100\n",
      "292/292 [==============================] - 20s 68ms/step - loss: 2.1465e-05 - mean_absolute_error: 0.0031 - val_loss: 3.6867e-04 - val_mean_absolute_error: 0.0153\n",
      "Epoch 40/100\n",
      "292/292 [==============================] - 19s 66ms/step - loss: 2.2537e-05 - mean_absolute_error: 0.0032 - val_loss: 8.1524e-05 - val_mean_absolute_error: 0.0059\n",
      "Epoch 41/100\n",
      "292/292 [==============================] - 20s 68ms/step - loss: 1.9077e-05 - mean_absolute_error: 0.0029 - val_loss: 1.1341e-04 - val_mean_absolute_error: 0.0062\n",
      "Epoch 42/100\n",
      "292/292 [==============================] - 19s 67ms/step - loss: 2.2440e-05 - mean_absolute_error: 0.0032 - val_loss: 8.7210e-05 - val_mean_absolute_error: 0.0059\n",
      "Epoch 43/100\n",
      "292/292 [==============================] - 20s 68ms/step - loss: 2.0053e-05 - mean_absolute_error: 0.0030 - val_loss: 1.0222e-04 - val_mean_absolute_error: 0.0077\n",
      "Epoch 44/100\n",
      "292/292 [==============================] - 20s 68ms/step - loss: 2.0079e-05 - mean_absolute_error: 0.0030 - val_loss: 9.3184e-05 - val_mean_absolute_error: 0.0058\n",
      "Epoch 45/100\n",
      "292/292 [==============================] - 21s 70ms/step - loss: 1.9443e-05 - mean_absolute_error: 0.0029 - val_loss: 1.2019e-04 - val_mean_absolute_error: 0.0083\n",
      "Epoch 46/100\n",
      "292/292 [==============================] - 19s 65ms/step - loss: 1.9665e-05 - mean_absolute_error: 0.0030 - val_loss: 9.4084e-04 - val_mean_absolute_error: 0.0260\n",
      "Epoch 47/100\n",
      "292/292 [==============================] - 19s 65ms/step - loss: 1.9732e-05 - mean_absolute_error: 0.0030 - val_loss: 1.4140e-04 - val_mean_absolute_error: 0.0093\n",
      "Epoch 48/100\n",
      "292/292 [==============================] - 20s 67ms/step - loss: 2.1062e-05 - mean_absolute_error: 0.0031 - val_loss: 1.3339e-04 - val_mean_absolute_error: 0.0071\n",
      "Epoch 49/100\n",
      "292/292 [==============================] - 19s 66ms/step - loss: 2.0149e-05 - mean_absolute_error: 0.0031 - val_loss: 1.7907e-04 - val_mean_absolute_error: 0.0086\n",
      "Epoch 50/100\n",
      "292/292 [==============================] - 19s 65ms/step - loss: 1.9551e-05 - mean_absolute_error: 0.0030 - val_loss: 2.1808e-04 - val_mean_absolute_error: 0.0098\n",
      "Epoch 51/100\n",
      "292/292 [==============================] - 19s 65ms/step - loss: 1.9680e-05 - mean_absolute_error: 0.0030 - val_loss: 9.7172e-05 - val_mean_absolute_error: 0.0072\n",
      "Epoch 52/100\n",
      "292/292 [==============================] - 20s 70ms/step - loss: 1.8780e-05 - mean_absolute_error: 0.0029 - val_loss: 3.1164e-04 - val_mean_absolute_error: 0.0111\n",
      "Epoch 53/100\n",
      "292/292 [==============================] - 21s 71ms/step - loss: 1.7760e-05 - mean_absolute_error: 0.0028 - val_loss: 1.5694e-04 - val_mean_absolute_error: 0.0079\n",
      "Epoch 54/100\n",
      "292/292 [==============================] - 19s 66ms/step - loss: 1.7419e-05 - mean_absolute_error: 0.0027 - val_loss: 2.5819e-04 - val_mean_absolute_error: 0.0096\n",
      "Epoch 55/100\n",
      "292/292 [==============================] - 19s 64ms/step - loss: 1.8137e-05 - mean_absolute_error: 0.0028 - val_loss: 1.9663e-04 - val_mean_absolute_error: 0.0079\n",
      "Epoch 56/100\n",
      "292/292 [==============================] - 19s 66ms/step - loss: 1.7547e-05 - mean_absolute_error: 0.0027 - val_loss: 4.0637e-04 - val_mean_absolute_error: 0.0131\n",
      "Epoch 57/100\n",
      "292/292 [==============================] - 19s 65ms/step - loss: 1.6665e-05 - mean_absolute_error: 0.0027 - val_loss: 3.6803e-04 - val_mean_absolute_error: 0.0134\n",
      "Epoch 58/100\n",
      "292/292 [==============================] - 19s 65ms/step - loss: 1.8580e-05 - mean_absolute_error: 0.0029 - val_loss: 1.7835e-04 - val_mean_absolute_error: 0.0091\n",
      "Epoch 59/100\n",
      "292/292 [==============================] - 20s 67ms/step - loss: 1.8690e-05 - mean_absolute_error: 0.0029 - val_loss: 3.4640e-04 - val_mean_absolute_error: 0.0132\n",
      "Epoch 60/100\n",
      "292/292 [==============================] - 20s 67ms/step - loss: 1.9143e-05 - mean_absolute_error: 0.0030 - val_loss: 1.3934e-04 - val_mean_absolute_error: 0.0074\n",
      "Epoch 61/100\n",
      "292/292 [==============================] - 19s 66ms/step - loss: 1.8523e-05 - mean_absolute_error: 0.0029 - val_loss: 1.1806e-04 - val_mean_absolute_error: 0.0083\n",
      "Epoch 62/100\n",
      "292/292 [==============================] - 20s 70ms/step - loss: 1.7892e-05 - mean_absolute_error: 0.0028 - val_loss: 1.6789e-04 - val_mean_absolute_error: 0.0101\n",
      "Epoch 63/100\n",
      "292/292 [==============================] - 19s 65ms/step - loss: 1.5816e-05 - mean_absolute_error: 0.0026 - val_loss: 1.5515e-04 - val_mean_absolute_error: 0.0077\n",
      "Epoch 64/100\n",
      "292/292 [==============================] - 20s 67ms/step - loss: 1.6830e-05 - mean_absolute_error: 0.0027 - val_loss: 1.9332e-04 - val_mean_absolute_error: 0.0095\n",
      "Epoch 65/100\n",
      "292/292 [==============================] - 19s 66ms/step - loss: 1.7653e-05 - mean_absolute_error: 0.0028 - val_loss: 5.8820e-04 - val_mean_absolute_error: 0.0158\n",
      "Epoch 66/100\n",
      "292/292 [==============================] - 20s 67ms/step - loss: 1.7349e-05 - mean_absolute_error: 0.0028 - val_loss: 1.7711e-04 - val_mean_absolute_error: 0.0085\n",
      "Epoch 67/100\n",
      "292/292 [==============================] - 20s 67ms/step - loss: 1.6419e-05 - mean_absolute_error: 0.0027 - val_loss: 2.3981e-04 - val_mean_absolute_error: 0.0090\n",
      "Epoch 68/100\n",
      "292/292 [==============================] - 20s 67ms/step - loss: 1.6047e-05 - mean_absolute_error: 0.0027 - val_loss: 2.2246e-04 - val_mean_absolute_error: 0.0082\n",
      "Epoch 69/100\n",
      "292/292 [==============================] - 19s 66ms/step - loss: 1.6724e-05 - mean_absolute_error: 0.0027 - val_loss: 3.9189e-04 - val_mean_absolute_error: 0.0123\n",
      "Epoch 70/100\n",
      "292/292 [==============================] - 19s 65ms/step - loss: 1.6608e-05 - mean_absolute_error: 0.0027 - val_loss: 6.6624e-04 - val_mean_absolute_error: 0.0157\n",
      "Epoch 71/100\n",
      "292/292 [==============================] - 20s 68ms/step - loss: 1.5896e-05 - mean_absolute_error: 0.0026 - val_loss: 2.4004e-04 - val_mean_absolute_error: 0.0082\n",
      "Epoch 72/100\n",
      "292/292 [==============================] - 20s 67ms/step - loss: 1.6127e-05 - mean_absolute_error: 0.0027 - val_loss: 4.7662e-04 - val_mean_absolute_error: 0.0126\n",
      "Epoch 73/100\n",
      "292/292 [==============================] - 19s 67ms/step - loss: 1.5762e-05 - mean_absolute_error: 0.0026 - val_loss: 0.0010 - val_mean_absolute_error: 0.0235\n",
      "Epoch 74/100\n",
      "292/292 [==============================] - 20s 68ms/step - loss: 1.8204e-05 - mean_absolute_error: 0.0028 - val_loss: 5.7631e-04 - val_mean_absolute_error: 0.0138\n",
      "Epoch 75/100\n",
      "292/292 [==============================] - 20s 70ms/step - loss: 1.6239e-05 - mean_absolute_error: 0.0026 - val_loss: 3.9629e-04 - val_mean_absolute_error: 0.0109\n",
      "Epoch 76/100\n",
      "292/292 [==============================] - 22s 75ms/step - loss: 1.5570e-05 - mean_absolute_error: 0.0025 - val_loss: 5.4001e-04 - val_mean_absolute_error: 0.0124\n",
      "Epoch 77/100\n",
      "292/292 [==============================] - 19s 66ms/step - loss: 1.7485e-05 - mean_absolute_error: 0.0028 - val_loss: 5.8615e-04 - val_mean_absolute_error: 0.0143\n",
      "Epoch 78/100\n",
      "292/292 [==============================] - 19s 67ms/step - loss: 1.5947e-05 - mean_absolute_error: 0.0027 - val_loss: 8.7929e-04 - val_mean_absolute_error: 0.0186\n",
      "Epoch 79/100\n",
      "292/292 [==============================] - 20s 68ms/step - loss: 1.6901e-05 - mean_absolute_error: 0.0027 - val_loss: 3.2128e-04 - val_mean_absolute_error: 0.0097\n",
      "Epoch 80/100\n",
      "292/292 [==============================] - 20s 67ms/step - loss: 1.5428e-05 - mean_absolute_error: 0.0026 - val_loss: 6.2782e-04 - val_mean_absolute_error: 0.0149\n",
      "Epoch 81/100\n",
      "292/292 [==============================] - 19s 66ms/step - loss: 1.5734e-05 - mean_absolute_error: 0.0026 - val_loss: 4.8342e-04 - val_mean_absolute_error: 0.0137\n",
      "Epoch 82/100\n",
      "292/292 [==============================] - 19s 66ms/step - loss: 1.6462e-05 - mean_absolute_error: 0.0027 - val_loss: 4.1923e-04 - val_mean_absolute_error: 0.0109\n",
      "Epoch 83/100\n",
      "292/292 [==============================] - 20s 68ms/step - loss: 1.5317e-05 - mean_absolute_error: 0.0026 - val_loss: 3.8655e-04 - val_mean_absolute_error: 0.0108\n",
      "Epoch 84/100\n",
      "292/292 [==============================] - 20s 67ms/step - loss: 1.6565e-05 - mean_absolute_error: 0.0027 - val_loss: 4.6845e-04 - val_mean_absolute_error: 0.0121\n",
      "Epoch 85/100\n",
      "292/292 [==============================] - 20s 67ms/step - loss: 1.6485e-05 - mean_absolute_error: 0.0027 - val_loss: 8.5694e-04 - val_mean_absolute_error: 0.0188\n",
      "Epoch 86/100\n",
      "292/292 [==============================] - 19s 65ms/step - loss: 1.5815e-05 - mean_absolute_error: 0.0026 - val_loss: 7.3873e-04 - val_mean_absolute_error: 0.0145\n",
      "Epoch 87/100\n",
      "292/292 [==============================] - 20s 68ms/step - loss: 1.5635e-05 - mean_absolute_error: 0.0026 - val_loss: 8.2700e-04 - val_mean_absolute_error: 0.0176\n",
      "Epoch 88/100\n",
      "292/292 [==============================] - 21s 72ms/step - loss: 1.5875e-05 - mean_absolute_error: 0.0026 - val_loss: 6.3666e-04 - val_mean_absolute_error: 0.0135\n",
      "Epoch 89/100\n",
      "292/292 [==============================] - 96s 330ms/step - loss: 1.5843e-05 - mean_absolute_error: 0.0026 - val_loss: 5.2020e-04 - val_mean_absolute_error: 0.0131\n",
      "Epoch 90/100\n",
      "292/292 [==============================] - 23s 79ms/step - loss: 1.6944e-05 - mean_absolute_error: 0.0027 - val_loss: 6.7831e-04 - val_mean_absolute_error: 0.0139\n",
      "Epoch 91/100\n",
      "292/292 [==============================] - 21s 71ms/step - loss: 1.5315e-05 - mean_absolute_error: 0.0025 - val_loss: 6.2739e-04 - val_mean_absolute_error: 0.0128\n",
      "Epoch 92/100\n",
      "292/292 [==============================] - 20s 70ms/step - loss: 1.5198e-05 - mean_absolute_error: 0.0025 - val_loss: 6.9673e-04 - val_mean_absolute_error: 0.0136\n",
      "Epoch 93/100\n",
      "292/292 [==============================] - 21s 72ms/step - loss: 1.4646e-05 - mean_absolute_error: 0.0025 - val_loss: 5.9343e-04 - val_mean_absolute_error: 0.0136\n",
      "Epoch 94/100\n",
      "292/292 [==============================] - 20s 68ms/step - loss: 1.3967e-05 - mean_absolute_error: 0.0024 - val_loss: 0.0011 - val_mean_absolute_error: 0.0202\n",
      "Epoch 95/100\n",
      "292/292 [==============================] - 19s 66ms/step - loss: 1.5469e-05 - mean_absolute_error: 0.0025 - val_loss: 6.8521e-04 - val_mean_absolute_error: 0.0132\n",
      "Epoch 96/100\n",
      "292/292 [==============================] - 19s 63ms/step - loss: 1.5307e-05 - mean_absolute_error: 0.0025 - val_loss: 0.0010 - val_mean_absolute_error: 0.0203\n",
      "Epoch 97/100\n",
      "292/292 [==============================] - 19s 66ms/step - loss: 1.5513e-05 - mean_absolute_error: 0.0026 - val_loss: 7.9912e-04 - val_mean_absolute_error: 0.0157\n",
      "Epoch 98/100\n",
      "292/292 [==============================] - 19s 66ms/step - loss: 1.4633e-05 - mean_absolute_error: 0.0025 - val_loss: 4.3685e-04 - val_mean_absolute_error: 0.0111\n",
      "Epoch 99/100\n",
      "292/292 [==============================] - 19s 65ms/step - loss: 1.6002e-05 - mean_absolute_error: 0.0026 - val_loss: 6.9136e-04 - val_mean_absolute_error: 0.0138\n",
      "Epoch 100/100\n",
      "292/292 [==============================] - 19s 64ms/step - loss: 1.4579e-05 - mean_absolute_error: 0.0024 - val_loss: 6.1835e-04 - val_mean_absolute_error: 0.0125\n"
     ]
    },
    {
     "data": {
      "text/plain": [
       "<keras.src.callbacks.History at 0x1f1af4d0970>"
      ]
     },
     "execution_count": 28,
     "metadata": {},
     "output_type": "execute_result"
    }
   ],
   "source": [
    "# fitting the model by iterating the dataset over 100 times(100 epochs)\n",
    "model.fit(train_seq, train_label, epochs=100,validation_data=(test_seq, test_label), verbose=1)"
   ]
  },
  {
   "cell_type": "code",
   "execution_count": 29,
   "id": "accc6ef5",
   "metadata": {},
   "outputs": [
    {
     "name": "stdout",
     "output_type": "stream",
     "text": [
      "97/97 [==============================] - 3s 18ms/step\n"
     ]
    },
    {
     "data": {
      "text/plain": [
       "array([[0.3483082 , 0.3493209 ],\n",
       "       [0.34829673, 0.34916943],\n",
       "       [0.34822816, 0.34904164],\n",
       "       [0.34964508, 0.35039514],\n",
       "       [0.3521896 , 0.3528384 ]], dtype=float32)"
      ]
     },
     "execution_count": 29,
     "metadata": {},
     "output_type": "execute_result"
    }
   ],
   "source": [
    "# predicting the values after running the model\n",
    "test_predicted = model.predict(test_seq)\n",
    "test_predicted[:5]"
   ]
  },
  {
   "cell_type": "code",
   "execution_count": 30,
   "id": "4017a344",
   "metadata": {},
   "outputs": [
    {
     "data": {
      "text/plain": [
       "array([[53.510326, 53.382904],\n",
       "       [53.508564, 53.359764],\n",
       "       [53.49803 , 53.34024 ],\n",
       "       [53.71565 , 53.547024],\n",
       "       [54.10645 , 53.920288]], dtype=float32)"
      ]
     },
     "execution_count": 30,
     "metadata": {},
     "output_type": "execute_result"
    }
   ],
   "source": [
    "# Inversing normalization/scaling on predicted data \n",
    "test_inverse_predicted = MMS.inverse_transform(test_predicted)\n",
    "test_inverse_predicted[:5]"
   ]
  },
  {
   "cell_type": "markdown",
   "id": "e28e77b9",
   "metadata": {},
   "source": [
    "## 6) VISUALIZING ACTUAL DATA VS PREDICTED DATA"
   ]
  },
  {
   "cell_type": "code",
   "execution_count": 31,
   "id": "7f89160a",
   "metadata": {},
   "outputs": [],
   "source": [
    "# Merging actual and predicted data for better visualization\n",
    "df1 = pd.concat([df.iloc[-3073:].copy(),\n",
    "                          pd.DataFrame(test_inverse_predicted,columns=['open_predicted','close_predicted'],\n",
    "                                       index=df.iloc[-3073:].index)], axis=1)\n",
    "# Inversing normalization/scaling "
   ]
  },
  {
   "cell_type": "code",
   "execution_count": 32,
   "id": "bd06a86b",
   "metadata": {},
   "outputs": [
    {
     "data": {
      "text/html": [
       "<div>\n",
       "<style scoped>\n",
       "    .dataframe tbody tr th:only-of-type {\n",
       "        vertical-align: middle;\n",
       "    }\n",
       "\n",
       "    .dataframe tbody tr th {\n",
       "        vertical-align: top;\n",
       "    }\n",
       "\n",
       "    .dataframe thead th {\n",
       "        text-align: right;\n",
       "    }\n",
       "</style>\n",
       "<table border=\"1\" class=\"dataframe\">\n",
       "  <thead>\n",
       "    <tr style=\"text-align: right;\">\n",
       "      <th></th>\n",
       "      <th>Open</th>\n",
       "      <th>Close</th>\n",
       "      <th>open_predicted</th>\n",
       "      <th>close_predicted</th>\n",
       "    </tr>\n",
       "    <tr>\n",
       "      <th>Date</th>\n",
       "      <th></th>\n",
       "      <th></th>\n",
       "      <th></th>\n",
       "      <th></th>\n",
       "    </tr>\n",
       "  </thead>\n",
       "  <tbody>\n",
       "    <tr>\n",
       "      <th>2009-12-22</th>\n",
       "      <td>53.459999</td>\n",
       "      <td>53.340000</td>\n",
       "      <td>53.510326</td>\n",
       "      <td>53.382904</td>\n",
       "    </tr>\n",
       "    <tr>\n",
       "      <th>2009-12-23</th>\n",
       "      <td>53.450001</td>\n",
       "      <td>53.320000</td>\n",
       "      <td>53.508564</td>\n",
       "      <td>53.359764</td>\n",
       "    </tr>\n",
       "    <tr>\n",
       "      <th>2009-12-24</th>\n",
       "      <td>53.419998</td>\n",
       "      <td>53.599998</td>\n",
       "      <td>53.498032</td>\n",
       "      <td>53.340240</td>\n",
       "    </tr>\n",
       "    <tr>\n",
       "      <th>2009-12-28</th>\n",
       "      <td>53.790001</td>\n",
       "      <td>53.980000</td>\n",
       "      <td>53.715649</td>\n",
       "      <td>53.547024</td>\n",
       "    </tr>\n",
       "    <tr>\n",
       "      <th>2009-12-29</th>\n",
       "      <td>53.970001</td>\n",
       "      <td>54.110001</td>\n",
       "      <td>54.106449</td>\n",
       "      <td>53.920288</td>\n",
       "    </tr>\n",
       "  </tbody>\n",
       "</table>\n",
       "</div>"
      ],
      "text/plain": [
       "                 Open      Close  open_predicted  close_predicted\n",
       "Date                                                             \n",
       "2009-12-22  53.459999  53.340000       53.510326        53.382904\n",
       "2009-12-23  53.450001  53.320000       53.508564        53.359764\n",
       "2009-12-24  53.419998  53.599998       53.498032        53.340240\n",
       "2009-12-28  53.790001  53.980000       53.715649        53.547024\n",
       "2009-12-29  53.970001  54.110001       54.106449        53.920288"
      ]
     },
     "execution_count": 32,
     "metadata": {},
     "output_type": "execute_result"
    }
   ],
   "source": [
    "# Inversing normalization/scaling \n",
    "df1[['Open','Close']] = MMS.inverse_transform(df1[['Open','Close']])\n",
    "df1.head()"
   ]
  },
  {
   "cell_type": "code",
   "execution_count": 33,
   "id": "d43815d4",
   "metadata": {},
   "outputs": [
    {
     "data": {
      "image/png": "[encoded data removed]",
      "text/plain": [
       "<Figure size 720x432 with 1 Axes>"
      ]
     },
     "metadata": {
      "needs_background": "light"
     },
     "output_type": "display_data"
    }
   ],
   "source": [
    "# plotting the actual open and predicted open prices on date index\n",
    "df1[['Open','open_predicted']].plot(figsize=(10,6))\n",
    "plt.xticks(rotation=45)\n",
    "plt.xlabel('Date',size=15)\n",
    "plt.ylabel('Stock Price',size=15)\n",
    "plt.title('Actual vs Predicted for open price',size=15)\n",
    "plt.show()\n"
   ]
  },
  {
   "cell_type": "code",
   "execution_count": 34,
   "id": "b70b6d5a",
   "metadata": {},
   "outputs": [
    {
     "data": {
      "image/png": "[encoded data removed]",
      "text/plain": [
       "<Figure size 720x432 with 1 Axes>"
      ]
     },
     "metadata": {
      "needs_background": "light"
     },
     "output_type": "display_data"
    }
   ],
   "source": [
    "# plotting the actual close and predicted close prices on date index \n",
    "df1[['Close','close_predicted']].plot(figsize=(10,6))\n",
    "plt.xticks(rotation=45)\n",
    "plt.xlabel('Date',size=15)\n",
    "plt.ylabel('Stock Price',size=15)\n",
    "plt.title('Actual vs Predicted for close price',size=15)\n",
    "plt.show()\n"
   ]
  },
  {
   "cell_type": "code",
   "execution_count": 35,
   "id": "9d143710",
   "metadata": {},
   "outputs": [
    {
     "data": {
      "image/png": "[encoded data removed]",
      "text/plain": [
       "<Figure size 864x432 with 2 Axes>"
      ]
     },
     "metadata": {
      "needs_background": "light"
     },
     "output_type": "display_data"
    }
   ],
   "source": [
    "plt.figure(figsize=(12, 6))\n",
    "\n",
    "plt.subplot(1, 2, 1)\n",
    "plt.scatter(y_test, y_test, color='green', label='Actual')\n",
    "plt.xlabel('Actual Close Price')\n",
    "plt.ylabel('Actual Close Price')\n",
    "plt.title('Actual Close Price vs. Actual Close Price')\n",
    "plt.legend()\n",
    "\n",
    "plt.subplot(1, 2, 2)\n",
    "plt.scatter(y_test, y_pred, color='blue', label='Predicted')\n",
    "plt.xlabel('Predicted Close Price')\n",
    "plt.ylabel('Predicted Close Price')\n",
    "plt.title('Actual Close Price vs. Predicted Close Price')\n",
    "plt.legend()\n",
    "\n",
    "plt.tight_layout()\n",
    "plt.show()"
   ]
  },
  {
   "cell_type": "markdown",
   "id": "0863c2b5",
   "metadata": {},
   "source": [
    "## 7) Predicting forthcoming prediction"
   ]
  },
  {
   "cell_type": "code",
   "execution_count": 36,
   "id": "b2c36547",
   "metadata": {},
   "outputs": [
    {
     "data": {
      "text/html": [
       "<div>\n",
       "<style scoped>\n",
       "    .dataframe tbody tr th:only-of-type {\n",
       "        vertical-align: middle;\n",
       "    }\n",
       "\n",
       "    .dataframe tbody tr th {\n",
       "        vertical-align: top;\n",
       "    }\n",
       "\n",
       "    .dataframe thead th {\n",
       "        text-align: right;\n",
       "    }\n",
       "</style>\n",
       "<table border=\"1\" class=\"dataframe\">\n",
       "  <thead>\n",
       "    <tr style=\"text-align: right;\">\n",
       "      <th></th>\n",
       "      <th>Open</th>\n",
       "      <th>Close</th>\n",
       "      <th>open_predicted</th>\n",
       "      <th>close_predicted</th>\n",
       "    </tr>\n",
       "    <tr>\n",
       "      <th>Date</th>\n",
       "      <th></th>\n",
       "      <th></th>\n",
       "      <th></th>\n",
       "      <th></th>\n",
       "    </tr>\n",
       "  </thead>\n",
       "  <tbody>\n",
       "    <tr>\n",
       "      <th>2009-12-22</th>\n",
       "      <td>53.459999</td>\n",
       "      <td>53.340000</td>\n",
       "      <td>53.510326</td>\n",
       "      <td>53.382904</td>\n",
       "    </tr>\n",
       "    <tr>\n",
       "      <th>2009-12-23</th>\n",
       "      <td>53.450001</td>\n",
       "      <td>53.320000</td>\n",
       "      <td>53.508564</td>\n",
       "      <td>53.359764</td>\n",
       "    </tr>\n",
       "    <tr>\n",
       "      <th>2009-12-24</th>\n",
       "      <td>53.419998</td>\n",
       "      <td>53.599998</td>\n",
       "      <td>53.498032</td>\n",
       "      <td>53.340240</td>\n",
       "    </tr>\n",
       "    <tr>\n",
       "      <th>2009-12-28</th>\n",
       "      <td>53.790001</td>\n",
       "      <td>53.980000</td>\n",
       "      <td>53.715649</td>\n",
       "      <td>53.547024</td>\n",
       "    </tr>\n",
       "    <tr>\n",
       "      <th>2009-12-29</th>\n",
       "      <td>53.970001</td>\n",
       "      <td>54.110001</td>\n",
       "      <td>54.106449</td>\n",
       "      <td>53.920288</td>\n",
       "    </tr>\n",
       "    <tr>\n",
       "      <th>...</th>\n",
       "      <td>...</td>\n",
       "      <td>...</td>\n",
       "      <td>...</td>\n",
       "      <td>...</td>\n",
       "    </tr>\n",
       "    <tr>\n",
       "      <th>2022-03-02</th>\n",
       "      <td>135.660004</td>\n",
       "      <td>136.160004</td>\n",
       "      <td>133.467606</td>\n",
       "      <td>126.611420</td>\n",
       "    </tr>\n",
       "    <tr>\n",
       "      <th>2022-03-03</th>\n",
       "      <td>137.289993</td>\n",
       "      <td>139.289993</td>\n",
       "      <td>132.990997</td>\n",
       "      <td>125.960861</td>\n",
       "    </tr>\n",
       "    <tr>\n",
       "      <th>2022-03-04</th>\n",
       "      <td>137.809998</td>\n",
       "      <td>142.820007</td>\n",
       "      <td>135.841858</td>\n",
       "      <td>128.603928</td>\n",
       "    </tr>\n",
       "    <tr>\n",
       "      <th>2022-03-07</th>\n",
       "      <td>141.300003</td>\n",
       "      <td>141.669998</td>\n",
       "      <td>137.322800</td>\n",
       "      <td>129.609665</td>\n",
       "    </tr>\n",
       "    <tr>\n",
       "      <th>2022-03-07</th>\n",
       "      <td>141.300003</td>\n",
       "      <td>141.669998</td>\n",
       "      <td>135.697495</td>\n",
       "      <td>127.871323</td>\n",
       "    </tr>\n",
       "  </tbody>\n",
       "</table>\n",
       "<p>3073 rows × 4 columns</p>\n",
       "</div>"
      ],
      "text/plain": [
       "                  Open       Close  open_predicted  close_predicted\n",
       "Date                                                               \n",
       "2009-12-22   53.459999   53.340000       53.510326        53.382904\n",
       "2009-12-23   53.450001   53.320000       53.508564        53.359764\n",
       "2009-12-24   53.419998   53.599998       53.498032        53.340240\n",
       "2009-12-28   53.790001   53.980000       53.715649        53.547024\n",
       "2009-12-29   53.970001   54.110001       54.106449        53.920288\n",
       "...                ...         ...             ...              ...\n",
       "2022-03-02  135.660004  136.160004      133.467606       126.611420\n",
       "2022-03-03  137.289993  139.289993      132.990997       125.960861\n",
       "2022-03-04  137.809998  142.820007      135.841858       128.603928\n",
       "2022-03-07  141.300003  141.669998      137.322800       129.609665\n",
       "2022-03-07  141.300003  141.669998      135.697495       127.871323\n",
       "\n",
       "[3073 rows x 4 columns]"
      ]
     },
     "execution_count": 36,
     "metadata": {},
     "output_type": "execute_result"
    }
   ],
   "source": [
    "df1"
   ]
  },
  {
   "cell_type": "code",
   "execution_count": 37,
   "id": "44973cf5",
   "metadata": {},
   "outputs": [
    {
     "data": {
      "text/html": [
       "<div>\n",
       "<style scoped>\n",
       "    .dataframe tbody tr th:only-of-type {\n",
       "        vertical-align: middle;\n",
       "    }\n",
       "\n",
       "    .dataframe tbody tr th {\n",
       "        vertical-align: top;\n",
       "    }\n",
       "\n",
       "    .dataframe thead th {\n",
       "        text-align: right;\n",
       "    }\n",
       "</style>\n",
       "<table border=\"1\" class=\"dataframe\">\n",
       "  <thead>\n",
       "    <tr style=\"text-align: right;\">\n",
       "      <th></th>\n",
       "      <th>Open</th>\n",
       "      <th>Close</th>\n",
       "      <th>open_predicted</th>\n",
       "      <th>close_predicted</th>\n",
       "    </tr>\n",
       "  </thead>\n",
       "  <tbody>\n",
       "    <tr>\n",
       "      <th>2022-03-03</th>\n",
       "      <td>137.289993</td>\n",
       "      <td>139.289993</td>\n",
       "      <td>132.990997</td>\n",
       "      <td>125.960861</td>\n",
       "    </tr>\n",
       "    <tr>\n",
       "      <th>2022-03-04</th>\n",
       "      <td>137.809998</td>\n",
       "      <td>142.820007</td>\n",
       "      <td>135.841858</td>\n",
       "      <td>128.603928</td>\n",
       "    </tr>\n",
       "    <tr>\n",
       "      <th>2022-03-07</th>\n",
       "      <td>141.300003</td>\n",
       "      <td>141.669998</td>\n",
       "      <td>137.3228</td>\n",
       "      <td>129.609665</td>\n",
       "    </tr>\n",
       "    <tr>\n",
       "      <th>2022-03-07</th>\n",
       "      <td>141.300003</td>\n",
       "      <td>141.669998</td>\n",
       "      <td>135.697495</td>\n",
       "      <td>127.871323</td>\n",
       "    </tr>\n",
       "    <tr>\n",
       "      <th>2022-03-07</th>\n",
       "      <td>NaN</td>\n",
       "      <td>NaN</td>\n",
       "      <td>NaN</td>\n",
       "      <td>NaN</td>\n",
       "    </tr>\n",
       "    <tr>\n",
       "      <th>2022-03-08</th>\n",
       "      <td>NaN</td>\n",
       "      <td>NaN</td>\n",
       "      <td>NaN</td>\n",
       "      <td>NaN</td>\n",
       "    </tr>\n",
       "    <tr>\n",
       "      <th>2022-03-09</th>\n",
       "      <td>NaN</td>\n",
       "      <td>NaN</td>\n",
       "      <td>NaN</td>\n",
       "      <td>NaN</td>\n",
       "    </tr>\n",
       "    <tr>\n",
       "      <th>2022-03-10</th>\n",
       "      <td>NaN</td>\n",
       "      <td>NaN</td>\n",
       "      <td>NaN</td>\n",
       "      <td>NaN</td>\n",
       "    </tr>\n",
       "    <tr>\n",
       "      <th>2022-03-11</th>\n",
       "      <td>NaN</td>\n",
       "      <td>NaN</td>\n",
       "      <td>NaN</td>\n",
       "      <td>NaN</td>\n",
       "    </tr>\n",
       "    <tr>\n",
       "      <th>2022-03-12</th>\n",
       "      <td>NaN</td>\n",
       "      <td>NaN</td>\n",
       "      <td>NaN</td>\n",
       "      <td>NaN</td>\n",
       "    </tr>\n",
       "    <tr>\n",
       "      <th>2022-03-13</th>\n",
       "      <td>NaN</td>\n",
       "      <td>NaN</td>\n",
       "      <td>NaN</td>\n",
       "      <td>NaN</td>\n",
       "    </tr>\n",
       "    <tr>\n",
       "      <th>2022-03-14</th>\n",
       "      <td>NaN</td>\n",
       "      <td>NaN</td>\n",
       "      <td>NaN</td>\n",
       "      <td>NaN</td>\n",
       "    </tr>\n",
       "    <tr>\n",
       "      <th>2022-03-15</th>\n",
       "      <td>NaN</td>\n",
       "      <td>NaN</td>\n",
       "      <td>NaN</td>\n",
       "      <td>NaN</td>\n",
       "    </tr>\n",
       "    <tr>\n",
       "      <th>2022-03-16</th>\n",
       "      <td>NaN</td>\n",
       "      <td>NaN</td>\n",
       "      <td>NaN</td>\n",
       "      <td>NaN</td>\n",
       "    </tr>\n",
       "    <tr>\n",
       "      <th>2022-03-17</th>\n",
       "      <td>NaN</td>\n",
       "      <td>NaN</td>\n",
       "      <td>NaN</td>\n",
       "      <td>NaN</td>\n",
       "    </tr>\n",
       "  </tbody>\n",
       "</table>\n",
       "</div>"
      ],
      "text/plain": [
       "                  Open       Close open_predicted close_predicted\n",
       "2022-03-03  137.289993  139.289993     132.990997      125.960861\n",
       "2022-03-04  137.809998  142.820007     135.841858      128.603928\n",
       "2022-03-07  141.300003  141.669998       137.3228      129.609665\n",
       "2022-03-07  141.300003  141.669998     135.697495      127.871323\n",
       "2022-03-07         NaN         NaN            NaN             NaN\n",
       "2022-03-08         NaN         NaN            NaN             NaN\n",
       "2022-03-09         NaN         NaN            NaN             NaN\n",
       "2022-03-10         NaN         NaN            NaN             NaN\n",
       "2022-03-11         NaN         NaN            NaN             NaN\n",
       "2022-03-12         NaN         NaN            NaN             NaN\n",
       "2022-03-13         NaN         NaN            NaN             NaN\n",
       "2022-03-14         NaN         NaN            NaN             NaN\n",
       "2022-03-15         NaN         NaN            NaN             NaN\n",
       "2022-03-16         NaN         NaN            NaN             NaN\n",
       "2022-03-17         NaN         NaN            NaN             NaN"
      ]
     },
     "execution_count": 37,
     "metadata": {},
     "output_type": "execute_result"
    }
   ],
   "source": [
    "# Creating a dataframe and adding 10 days to existing index \n",
    "\n",
    "df2 = pd.concat([df1,pd.DataFrame(columns=df1.columns,\n",
    "                                        index=pd.date_range(start=df1.index[-1], periods=11, freq='D'))],axis=0)\n",
    "df2['2022-03-03':'2022-04-21']"
   ]
  },
  {
   "cell_type": "code",
   "execution_count": 38,
   "id": "f5908063",
   "metadata": {},
   "outputs": [],
   "source": [
    "# creating a DataFrame and filling values of open and close column\n",
    "forthcoming_prediction = pd.DataFrame(columns=['open','close'],index=df1.index)\n",
    "forthcoming_prediction.index=pd.to_datetime(forthcoming_prediction.index)"
   ]
  },
  {
   "cell_type": "code",
   "execution_count": 39,
   "id": "535a6978",
   "metadata": {},
   "outputs": [
    {
     "name": "stdout",
     "output_type": "stream",
     "text": [
      "1/1 [==============================] - 0s 312ms/step\n",
      "1/1 [==============================] - 0s 141ms/step\n",
      "1/1 [==============================] - 0s 78ms/step\n",
      "1/1 [==============================] - 0s 114ms/step\n",
      "1/1 [==============================] - 0s 94ms/step\n",
      "1/1 [==============================] - 0s 94ms/step\n",
      "1/1 [==============================] - 0s 109ms/step\n",
      "1/1 [==============================] - 0s 94ms/step\n",
      "1/1 [==============================] - 0s 139ms/step\n",
      "1/1 [==============================] - 0s 96ms/step\n"
     ]
    }
   ],
   "source": [
    "curr_seq = test_seq[-1:]\n",
    "\n",
    "for i in range(-10,0):\n",
    "  up_pred = model.predict(curr_seq)\n",
    "  forthcoming_prediction.iloc[i] = up_pred\n",
    "  curr_seq = np.append(curr_seq[0][1:],up_pred,axis=0)\n",
    "  curr_seq = curr_seq.reshape(test_seq[-1:].shape)"
   ]
  },
  {
   "cell_type": "code",
   "execution_count": 40,
   "id": "168a1fd9",
   "metadata": {},
   "outputs": [],
   "source": [
    "# inversing Normalization/scaling\n",
    "forthcoming_prediction[['open','close']] = MMS.inverse_transform(forthcoming_prediction)"
   ]
  },
  {
   "cell_type": "code",
   "execution_count": 41,
   "id": "50e9b1c8",
   "metadata": {},
   "outputs": [
    {
     "data": {
      "image/png": "[encoded data removed]",
      "text/plain": [
       "<Figure size 720x360 with 1 Axes>"
      ]
     },
     "metadata": {
      "needs_background": "light"
     },
     "output_type": "display_data"
    }
   ],
   "source": [
    "# plotting forthcoming Open price on date index\n",
    "fig,ax=plt.subplots(figsize=(10,5))\n",
    "ax.plot(df1.loc['2022-02-20':,'Open'],label='Current Open Price')\n",
    "ax.plot(forthcoming_prediction.loc['2022-02-20':,'open'],label='Upcoming Open Price')\n",
    "plt.setp(ax.xaxis.get_majorticklabels(), rotation=45)\n",
    "ax.set_xlabel('Date',size=25)\n",
    "ax.set_ylabel('Stock Price',size=25)\n",
    "ax.set_title('forthcoming Open price prediction',size=25)\n",
    "ax.legend()\n",
    "fig.show()\n"
   ]
  },
  {
   "cell_type": "code",
   "execution_count": 42,
   "id": "78506276",
   "metadata": {},
   "outputs": [
    {
     "data": {
      "image/png": "[encoded data removed]",
      "text/plain": [
       "<Figure size 720x360 with 1 Axes>"
      ]
     },
     "metadata": {
      "needs_background": "light"
     },
     "output_type": "display_data"
    }
   ],
   "source": [
    "# plotting Upcoming Open price on date index\n",
    "fig,ax=plt.subplots(figsize=(10,5))\n",
    "ax.plot(df1.loc['2022-02-20':,'Close'],label='Current close Price')\n",
    "ax.plot(forthcoming_prediction.loc['2022-02-20':,'close'],label='Upcoming close Price')\n",
    "plt.setp(ax.xaxis.get_majorticklabels(), rotation=45)\n",
    "ax.set_xlabel('Date',size=15)\n",
    "ax.set_ylabel('Stock Price',size=15)\n",
    "ax.set_title('forthcoming close price prediction',size=15)\n",
    "ax.legend()\n",
    "fig.show()"
   ]
  },
  {
   "cell_type": "code",
   "execution_count": 43,
   "id": "a39c28bf",
   "metadata": {},
   "outputs": [
    {
     "name": "stdout",
     "output_type": "stream",
     "text": [
      "Accuracy within 1%: 76.75%\n"
     ]
    }
   ],
   "source": [
    "percentage_threshold = 1\n",
    "threshold = y_test * (percentage_threshold / 100.0)\n",
    "\n",
    "correct_predictions = (abs(y_test - y_pred) <= threshold).sum()\n",
    "total_predictions = len(y_test)\n",
    "\n",
    "accuracy_percentage = (correct_predictions / total_predictions) * 100\n",
    "\n",
    "print(f\"Accuracy within {percentage_threshold}%: {accuracy_percentage:.2f}%\")"
   ]
  },
  {
   "cell_type": "markdown",
   "id": "70107ae0",
   "metadata": {},
   "source": [
    "# Conclusion"
   ]
  },
  {
   "cell_type": "markdown",
   "id": "0846c27b",
   "metadata": {},
   "source": [
    "Because there are so many variables that might influence stock prices, it is hard to develop a model that can accurately predict the price by 99% of the time. We cannot therefore expect a perfect model, but the general trend of the anticipated price is consistent with the observed data, allowing the trader to use an indication and make his or her own trading decisions.\n",
    "\n",
    "By adding more epochs, experimenting with various activation functions, or even altering the model's structure, we can further increase the model's accuracy. as precise\n",
    "\n"
   ]
  }
 ],
 "metadata": {
  "kernelspec": {
   "display_name": "Python 3 (ipykernel)",
   "language": "python",
   "name": "python3"
  },
  "language_info": {
   "codemirror_mode": {
    "name": "ipython",
    "version": 3
   },
   "file_extension": ".py",
   "mimetype": "text/x-python",
   "name": "python",
   "nbconvert_exporter": "python",
   "pygments_lexer": "ipython3",
   "version": "3.9.12"
  }
 },
 "nbformat": 4,
 "nbformat_minor": 5
}
